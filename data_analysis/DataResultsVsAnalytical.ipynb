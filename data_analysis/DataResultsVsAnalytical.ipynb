{
 "cells": [
  {
   "cell_type": "code",
   "execution_count": 20,
   "metadata": {
    "collapsed": true
   },
   "outputs": [],
   "source": [
    "import pandas as pd"
   ]
  },
  {
   "cell_type": "code",
   "execution_count": 21,
   "outputs": [],
   "source": [
    "files = {}\n",
    "name_files = [\"analytic\",\"beeman\",\"verlet\",\"gearpredictor\"]"
   ],
   "metadata": {
    "collapsed": false,
    "pycharm": {
     "name": "#%%\n"
    }
   }
  },
  {
   "cell_type": "code",
   "execution_count": 22,
   "outputs": [],
   "source": [
    "for name in name_files:\n",
    "    files[name]= pd.read_csv(f'../src/main/resources/output/oscillator_{name}.csv')"
   ],
   "metadata": {
    "collapsed": false,
    "pycharm": {
     "name": "#%%\n"
    }
   }
  },
  {
   "cell_type": "code",
   "execution_count": 23,
   "outputs": [
    {
     "data": {
      "text/plain": "     iteration     t  position\n0            0  0.00  0.985803\n1            1  0.01  0.957831\n2            2  0.02  0.916695\n3            3  0.03  0.863152\n4            4  0.04  0.798141\n..         ...   ...       ...\n496        496  4.96 -0.026531\n497        497  4.97 -0.027456\n498        498  4.98 -0.027979\n499        499  4.99 -0.028098\n500        500  5.00 -0.027817\n\n[501 rows x 3 columns]",
      "text/html": "<div>\n<style scoped>\n    .dataframe tbody tr th:only-of-type {\n        vertical-align: middle;\n    }\n\n    .dataframe tbody tr th {\n        vertical-align: top;\n    }\n\n    .dataframe thead th {\n        text-align: right;\n    }\n</style>\n<table border=\"1\" class=\"dataframe\">\n  <thead>\n    <tr style=\"text-align: right;\">\n      <th></th>\n      <th>iteration</th>\n      <th>t</th>\n      <th>position</th>\n    </tr>\n  </thead>\n  <tbody>\n    <tr>\n      <th>0</th>\n      <td>0</td>\n      <td>0.00</td>\n      <td>0.985803</td>\n    </tr>\n    <tr>\n      <th>1</th>\n      <td>1</td>\n      <td>0.01</td>\n      <td>0.957831</td>\n    </tr>\n    <tr>\n      <th>2</th>\n      <td>2</td>\n      <td>0.02</td>\n      <td>0.916695</td>\n    </tr>\n    <tr>\n      <th>3</th>\n      <td>3</td>\n      <td>0.03</td>\n      <td>0.863152</td>\n    </tr>\n    <tr>\n      <th>4</th>\n      <td>4</td>\n      <td>0.04</td>\n      <td>0.798141</td>\n    </tr>\n    <tr>\n      <th>...</th>\n      <td>...</td>\n      <td>...</td>\n      <td>...</td>\n    </tr>\n    <tr>\n      <th>496</th>\n      <td>496</td>\n      <td>4.96</td>\n      <td>-0.026531</td>\n    </tr>\n    <tr>\n      <th>497</th>\n      <td>497</td>\n      <td>4.97</td>\n      <td>-0.027456</td>\n    </tr>\n    <tr>\n      <th>498</th>\n      <td>498</td>\n      <td>4.98</td>\n      <td>-0.027979</td>\n    </tr>\n    <tr>\n      <th>499</th>\n      <td>499</td>\n      <td>4.99</td>\n      <td>-0.028098</td>\n    </tr>\n    <tr>\n      <th>500</th>\n      <td>500</td>\n      <td>5.00</td>\n      <td>-0.027817</td>\n    </tr>\n  </tbody>\n</table>\n<p>501 rows × 3 columns</p>\n</div>"
     },
     "execution_count": 23,
     "metadata": {},
     "output_type": "execute_result"
    }
   ],
   "source": [
    "files[\"analytic\"]"
   ],
   "metadata": {
    "collapsed": false,
    "pycharm": {
     "name": "#%%\n"
    }
   }
  },
  {
   "cell_type": "code",
   "execution_count": 29,
   "outputs": [
    {
     "name": "stderr",
     "output_type": "stream",
     "text": [
      "/var/folders/ld/9r7b_z792271p_ycsc8k24240000gn/T/ipykernel_4795/2599536102.py:3: FutureWarning: In a future version, `df.iloc[:, i] = newvals` will attempt to set the values inplace instead of always setting a new array. To retain the old behavior, use either `df[df.columns[i]] = newvals` or, if columns are non-unique, `df.isetitem(i, newvals)`\n",
      "  complete_df.loc[:,'t'] = files['analytic'].loc[:,'t']\n",
      "/var/folders/ld/9r7b_z792271p_ycsc8k24240000gn/T/ipykernel_4795/2599536102.py:4: FutureWarning: In a future version, `df.iloc[:, i] = newvals` will attempt to set the values inplace instead of always setting a new array. To retain the old behavior, use either `df[df.columns[i]] = newvals` or, if columns are non-unique, `df.isetitem(i, newvals)`\n",
      "  complete_df.loc[:,'analytic'] = files['analytic'].loc[:,'position']\n"
     ]
    },
    {
     "data": {
      "text/plain": "     iteration     t  analytic beeman verlet gearpredictor\n0            0  0.00  0.985803    NaN    NaN           NaN\n1            1  0.01  0.957831    NaN    NaN           NaN\n2            2  0.02  0.916695    NaN    NaN           NaN\n3            3  0.03  0.863152    NaN    NaN           NaN\n4            4  0.04  0.798141    NaN    NaN           NaN\n..         ...   ...       ...    ...    ...           ...\n496        496  4.96 -0.026531    NaN    NaN           NaN\n497        497  4.97 -0.027456    NaN    NaN           NaN\n498        498  4.98 -0.027979    NaN    NaN           NaN\n499        499  4.99 -0.028098    NaN    NaN           NaN\n500        500  5.00 -0.027817    NaN    NaN           NaN\n\n[501 rows x 6 columns]",
      "text/html": "<div>\n<style scoped>\n    .dataframe tbody tr th:only-of-type {\n        vertical-align: middle;\n    }\n\n    .dataframe tbody tr th {\n        vertical-align: top;\n    }\n\n    .dataframe thead th {\n        text-align: right;\n    }\n</style>\n<table border=\"1\" class=\"dataframe\">\n  <thead>\n    <tr style=\"text-align: right;\">\n      <th></th>\n      <th>iteration</th>\n      <th>t</th>\n      <th>analytic</th>\n      <th>beeman</th>\n      <th>verlet</th>\n      <th>gearpredictor</th>\n    </tr>\n  </thead>\n  <tbody>\n    <tr>\n      <th>0</th>\n      <td>0</td>\n      <td>0.00</td>\n      <td>0.985803</td>\n      <td>NaN</td>\n      <td>NaN</td>\n      <td>NaN</td>\n    </tr>\n    <tr>\n      <th>1</th>\n      <td>1</td>\n      <td>0.01</td>\n      <td>0.957831</td>\n      <td>NaN</td>\n      <td>NaN</td>\n      <td>NaN</td>\n    </tr>\n    <tr>\n      <th>2</th>\n      <td>2</td>\n      <td>0.02</td>\n      <td>0.916695</td>\n      <td>NaN</td>\n      <td>NaN</td>\n      <td>NaN</td>\n    </tr>\n    <tr>\n      <th>3</th>\n      <td>3</td>\n      <td>0.03</td>\n      <td>0.863152</td>\n      <td>NaN</td>\n      <td>NaN</td>\n      <td>NaN</td>\n    </tr>\n    <tr>\n      <th>4</th>\n      <td>4</td>\n      <td>0.04</td>\n      <td>0.798141</td>\n      <td>NaN</td>\n      <td>NaN</td>\n      <td>NaN</td>\n    </tr>\n    <tr>\n      <th>...</th>\n      <td>...</td>\n      <td>...</td>\n      <td>...</td>\n      <td>...</td>\n      <td>...</td>\n      <td>...</td>\n    </tr>\n    <tr>\n      <th>496</th>\n      <td>496</td>\n      <td>4.96</td>\n      <td>-0.026531</td>\n      <td>NaN</td>\n      <td>NaN</td>\n      <td>NaN</td>\n    </tr>\n    <tr>\n      <th>497</th>\n      <td>497</td>\n      <td>4.97</td>\n      <td>-0.027456</td>\n      <td>NaN</td>\n      <td>NaN</td>\n      <td>NaN</td>\n    </tr>\n    <tr>\n      <th>498</th>\n      <td>498</td>\n      <td>4.98</td>\n      <td>-0.027979</td>\n      <td>NaN</td>\n      <td>NaN</td>\n      <td>NaN</td>\n    </tr>\n    <tr>\n      <th>499</th>\n      <td>499</td>\n      <td>4.99</td>\n      <td>-0.028098</td>\n      <td>NaN</td>\n      <td>NaN</td>\n      <td>NaN</td>\n    </tr>\n    <tr>\n      <th>500</th>\n      <td>500</td>\n      <td>5.00</td>\n      <td>-0.027817</td>\n      <td>NaN</td>\n      <td>NaN</td>\n      <td>NaN</td>\n    </tr>\n  </tbody>\n</table>\n<p>501 rows × 6 columns</p>\n</div>"
     },
     "execution_count": 29,
     "metadata": {},
     "output_type": "execute_result"
    }
   ],
   "source": [
    "complete_df = pd.DataFrame(columns=[\"iteration\",\"t\",\"analytic\",\"beeman\",\"verlet\",\"gearpredictor\"])\n",
    "complete_df.loc[:,'iteration'] = files['analytic'].loc[:,'iteration']\n",
    "complete_df.loc[:,'t'] = files['analytic'].loc[:,'t']\n",
    "complete_df"
   ],
   "metadata": {
    "collapsed": false,
    "pycharm": {
     "name": "#%%\n"
    }
   }
  },
  {
   "cell_type": "code",
   "execution_count": 30,
   "outputs": [
    {
     "name": "stderr",
     "output_type": "stream",
     "text": [
      "/var/folders/ld/9r7b_z792271p_ycsc8k24240000gn/T/ipykernel_4795/664045420.py:2: FutureWarning: In a future version, `df.iloc[:, i] = newvals` will attempt to set the values inplace instead of always setting a new array. To retain the old behavior, use either `df[df.columns[i]] = newvals` or, if columns are non-unique, `df.isetitem(i, newvals)`\n",
      "  complete_df.loc[:,type] = files[type].loc[:,'position']\n"
     ]
    },
    {
     "data": {
      "text/plain": "     iteration     t  analytic    beeman    verlet  gearpredictor\n0            0  0.00  0.985803  0.985765  0.992959       0.985803\n1            1  0.01  0.957831  0.957550  0.972038       0.957831\n2            2  0.02  0.916695  0.915960  0.937733       0.916695\n3            3  0.03  0.863152  0.861784  0.890727       0.863152\n4            4  0.04  0.798141  0.795983  0.831871       0.798141\n..         ...   ...       ...       ...       ...            ...\n496        496  4.96 -0.026531 -0.027686 -0.012783      -0.026531\n497        497  4.97 -0.027456 -0.027051 -0.013065      -0.027456\n498        498  4.98 -0.027979 -0.026036 -0.012952      -0.027979\n499        499  4.99 -0.028098 -0.024661 -0.012451      -0.028098\n500        500  5.00 -0.027817 -0.022950 -0.011576      -0.027817\n\n[501 rows x 6 columns]",
      "text/html": "<div>\n<style scoped>\n    .dataframe tbody tr th:only-of-type {\n        vertical-align: middle;\n    }\n\n    .dataframe tbody tr th {\n        vertical-align: top;\n    }\n\n    .dataframe thead th {\n        text-align: right;\n    }\n</style>\n<table border=\"1\" class=\"dataframe\">\n  <thead>\n    <tr style=\"text-align: right;\">\n      <th></th>\n      <th>iteration</th>\n      <th>t</th>\n      <th>analytic</th>\n      <th>beeman</th>\n      <th>verlet</th>\n      <th>gearpredictor</th>\n    </tr>\n  </thead>\n  <tbody>\n    <tr>\n      <th>0</th>\n      <td>0</td>\n      <td>0.00</td>\n      <td>0.985803</td>\n      <td>0.985765</td>\n      <td>0.992959</td>\n      <td>0.985803</td>\n    </tr>\n    <tr>\n      <th>1</th>\n      <td>1</td>\n      <td>0.01</td>\n      <td>0.957831</td>\n      <td>0.957550</td>\n      <td>0.972038</td>\n      <td>0.957831</td>\n    </tr>\n    <tr>\n      <th>2</th>\n      <td>2</td>\n      <td>0.02</td>\n      <td>0.916695</td>\n      <td>0.915960</td>\n      <td>0.937733</td>\n      <td>0.916695</td>\n    </tr>\n    <tr>\n      <th>3</th>\n      <td>3</td>\n      <td>0.03</td>\n      <td>0.863152</td>\n      <td>0.861784</td>\n      <td>0.890727</td>\n      <td>0.863152</td>\n    </tr>\n    <tr>\n      <th>4</th>\n      <td>4</td>\n      <td>0.04</td>\n      <td>0.798141</td>\n      <td>0.795983</td>\n      <td>0.831871</td>\n      <td>0.798141</td>\n    </tr>\n    <tr>\n      <th>...</th>\n      <td>...</td>\n      <td>...</td>\n      <td>...</td>\n      <td>...</td>\n      <td>...</td>\n      <td>...</td>\n    </tr>\n    <tr>\n      <th>496</th>\n      <td>496</td>\n      <td>4.96</td>\n      <td>-0.026531</td>\n      <td>-0.027686</td>\n      <td>-0.012783</td>\n      <td>-0.026531</td>\n    </tr>\n    <tr>\n      <th>497</th>\n      <td>497</td>\n      <td>4.97</td>\n      <td>-0.027456</td>\n      <td>-0.027051</td>\n      <td>-0.013065</td>\n      <td>-0.027456</td>\n    </tr>\n    <tr>\n      <th>498</th>\n      <td>498</td>\n      <td>4.98</td>\n      <td>-0.027979</td>\n      <td>-0.026036</td>\n      <td>-0.012952</td>\n      <td>-0.027979</td>\n    </tr>\n    <tr>\n      <th>499</th>\n      <td>499</td>\n      <td>4.99</td>\n      <td>-0.028098</td>\n      <td>-0.024661</td>\n      <td>-0.012451</td>\n      <td>-0.028098</td>\n    </tr>\n    <tr>\n      <th>500</th>\n      <td>500</td>\n      <td>5.00</td>\n      <td>-0.027817</td>\n      <td>-0.022950</td>\n      <td>-0.011576</td>\n      <td>-0.027817</td>\n    </tr>\n  </tbody>\n</table>\n<p>501 rows × 6 columns</p>\n</div>"
     },
     "execution_count": 30,
     "metadata": {},
     "output_type": "execute_result"
    }
   ],
   "source": [
    "for type in files:\n",
    "    complete_df.loc[:,type] = files[type].loc[:,'position']\n",
    "complete_df"
   ],
   "metadata": {
    "collapsed": false,
    "pycharm": {
     "name": "#%%\n"
    }
   }
  },
  {
   "cell_type": "code",
   "execution_count": 31,
   "outputs": [],
   "source": [
    "#export to csv\n",
    "complete_df.to_csv(\"./output/csv/algorithmsVsAnalytic.csv\", header=True)"
   ],
   "metadata": {
    "collapsed": false,
    "pycharm": {
     "name": "#%%\n"
    }
   }
  },
  {
   "cell_type": "code",
   "execution_count": null,
   "outputs": [],
   "source": [],
   "metadata": {
    "collapsed": false,
    "pycharm": {
     "name": "#%%\n"
    }
   }
  }
 ],
 "metadata": {
  "kernelspec": {
   "display_name": "Python 3",
   "language": "python",
   "name": "python3"
  },
  "language_info": {
   "codemirror_mode": {
    "name": "ipython",
    "version": 2
   },
   "file_extension": ".py",
   "mimetype": "text/x-python",
   "name": "python",
   "nbconvert_exporter": "python",
   "pygments_lexer": "ipython2",
   "version": "2.7.6"
  }
 },
 "nbformat": 4,
 "nbformat_minor": 0
}