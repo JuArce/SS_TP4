{
 "cells": [
  {
   "cell_type": "code",
   "execution_count": null,
   "metadata": {
    "collapsed": true
   },
   "outputs": [],
   "source": [
    "import pandas as pd"
   ]
  },
  {
   "cell_type": "code",
   "execution_count": null,
   "outputs": [],
   "source": [
    "files = {}\n",
    "name_files = [\"analytic\",\"beeman\",\"verlet\",\"gear\"]"
   ],
   "metadata": {
    "collapsed": false
   }
  },
  {
   "cell_type": "code",
   "execution_count": null,
   "outputs": [],
   "source": [
    "for name in name_files:\n",
    "    files[name]= pd.read_csv(f'../src/main/resources/output/oscillator_{name}_0.001.csv')"
   ],
   "metadata": {
    "collapsed": false
   }
  },
  {
   "cell_type": "code",
   "execution_count": null,
   "outputs": [],
   "source": [
    "files[\"analytic\"]"
   ],
   "metadata": {
    "collapsed": false
   }
  },
  {
   "cell_type": "code",
   "execution_count": null,
   "outputs": [],
   "source": [
    "complete_df = pd.DataFrame(columns=[\"iteration\",\"t\",\"analytic\",\"beeman\",\"verlet\",\"gear\"])\n",
    "complete_df.loc[:,'iteration'] = files['analytic'].loc[:,'iteration']\n",
    "complete_df.loc[:,'t'] = files['analytic'].loc[:,'t']\n",
    "complete_df"
   ],
   "metadata": {
    "collapsed": false
   }
  },
  {
   "cell_type": "code",
   "execution_count": null,
   "outputs": [],
   "source": [
    "for type in files:\n",
    "    complete_df.loc[:,type] = files[type].loc[:,'position']\n",
    "complete_df"
   ],
   "metadata": {
    "collapsed": false
   }
  },
  {
   "cell_type": "code",
   "execution_count": null,
   "outputs": [],
   "source": [
    "#export to csv\n",
    "complete_df.to_csv(\"./output/csv/algorithmsVsAnalytic.csv\", header=True, index=False)"
   ],
   "metadata": {
    "collapsed": false
   }
  },
  {
   "cell_type": "code",
   "execution_count": null,
   "outputs": [],
   "source": [
    "import matplotlib.pyplot as plt\n",
    "fig, ax = plt.subplots()\n",
    "ax.plot(complete_df.t,complete_df.analytic)\n",
    "# ax.plot(complete_df.t,complete_df.beeman)\n",
    "ax.plot(complete_df.t,complete_df.verlet)\n",
    "# ax.plot(complete_df.t,complete_df.gear)\n",
    "plt.show()"
   ],
   "metadata": {
    "collapsed": false
   }
  },
  {
   "cell_type": "code",
   "execution_count": null,
   "outputs": [],
   "source": [],
   "metadata": {
    "collapsed": false
   }
  }
 ],
 "metadata": {
  "kernelspec": {
   "display_name": "Python 3",
   "language": "python",
   "name": "python3"
  },
  "language_info": {
   "codemirror_mode": {
    "name": "ipython",
    "version": 2
   },
   "file_extension": ".py",
   "mimetype": "text/x-python",
   "name": "python",
   "nbconvert_exporter": "python",
   "pygments_lexer": "ipython2",
   "version": "2.7.6"
  }
 },
 "nbformat": 4,
 "nbformat_minor": 0
}
