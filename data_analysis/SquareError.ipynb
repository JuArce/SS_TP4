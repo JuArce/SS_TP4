{
 "cells": [
  {
   "cell_type": "code",
   "execution_count": 185,
   "metadata": {
    "collapsed": true
   },
   "outputs": [],
   "source": [
    "import pandas as pd\n",
    "from sklearn.metrics import mean_squared_error\n",
    "import numpy as np\n",
    "import matplotlib.pyplot as plt"
   ]
  },
  {
   "cell_type": "code",
   "execution_count": 186,
   "outputs": [],
   "source": [
    "files = {}\n",
    "name_files = [\"analytic\",\"beeman\",\"verlet\",\"gear\"]\n",
    "dt_numbers = [\"0.01\",\"0.001\",\"1.0E-4\",\"1.0E-5\",\"1.0E-6\"]\n",
    "dts = [0.01,0.001,1.0E-4,1.0E-5,1.0E-6]"
   ],
   "metadata": {
    "collapsed": false,
    "pycharm": {
     "name": "#%%\n"
    }
   }
  },
  {
   "cell_type": "code",
   "execution_count": 187,
   "outputs": [],
   "source": [
    "for name in name_files:\n",
    "    for dt in dt_numbers:\n",
    "        files[f'{name}_{dt}']= pd.read_csv(f'../src/main/resources/output/oscillator_{name}_{dt}.csv')"
   ],
   "metadata": {
    "collapsed": false,
    "pycharm": {
     "name": "#%%\n"
    }
   }
  },
  {
   "cell_type": "code",
   "execution_count": 188,
   "outputs": [],
   "source": [
    "# mse_results = {}\n",
    "#\n",
    "# for name in name_files:\n",
    "#     if name == 'analytic':\n",
    "#         continue\n",
    "#     aux = {}\n",
    "#     for dt in dt_numbers:\n",
    "#         mse_results[f'{name}_{dt}'] = mean_squared_error(files[f'analytic_{dt}']['position'],files[f'{name}_{dt}']['position'])"
   ],
   "metadata": {
    "collapsed": false,
    "pycharm": {
     "name": "#%%\n"
    }
   }
  },
  {
   "cell_type": "code",
   "execution_count": 189,
   "outputs": [],
   "source": [
    "# mse_results = {}\n",
    "#\n",
    "# for dt in dt_numbers:\n",
    "#     mse_results[dt] = {}\n",
    "#     for name in name_files:\n",
    "#         if name == 'analytic':\n",
    "#             continue\n",
    "#         mse_results[dt][name] = mean_squared_error(files[f'analytic_{dt}']['position'],files[f'{name}_{dt}']['position'])"
   ],
   "metadata": {
    "collapsed": false,
    "pycharm": {
     "name": "#%%\n"
    }
   }
  },
  {
   "cell_type": "code",
   "execution_count": 190,
   "outputs": [
    {
     "data": {
      "text/plain": "{'beeman': [0.002636377301379541,\n  2.4839517383064597e-05,\n  2.468633981514185e-07,\n  2.467102177686458e-09,\n  2.4669652353943547e-11],\n 'verlet': [0.0009061413760841465,\n  0.0009255943999752568,\n  0.0012122481322387696,\n  0.0012436062036627472,\n  0.0012467710759002586],\n 'gear': [0.0010032533671209185,\n  1.0031250356711947e-05,\n  1.0028168806361686e-07,\n  1.0027829319360495e-09,\n  1.0027897743196875e-11]}"
     },
     "execution_count": 190,
     "metadata": {},
     "output_type": "execute_result"
    }
   ],
   "source": [
    "mse_results = {}\n",
    "for name in name_files:\n",
    "    if name == 'analytic':\n",
    "        continue\n",
    "    aux = []\n",
    "    for dt in dt_numbers:\n",
    "        # aux.append(mean_squared_error(files[f'analytic_{dt}']['position'],files[f'{name}_{dt}']['position']))\n",
    "        aux.append(np.square(np.subtract(files[f'analytic_{dt}']['position'], files[f'{name}_{dt}']['position'])).mean())\n",
    "    mse_results[name] = aux\n",
    "mse_results"
   ],
   "metadata": {
    "collapsed": false,
    "pycharm": {
     "name": "#%%\n"
    }
   }
  },
  {
   "cell_type": "code",
   "execution_count": 191,
   "outputs": [
    {
     "data": {
      "text/plain": "['dt', 'beeman', 'verlet', 'gear']"
     },
     "execution_count": 191,
     "metadata": {},
     "output_type": "execute_result"
    }
   ],
   "source": [
    "columns = [\"dt\"]\n",
    "columns.extend(name_files)\n",
    "columns.remove('analytic')\n",
    "columns"
   ],
   "metadata": {
    "collapsed": false,
    "pycharm": {
     "name": "#%%\n"
    }
   }
  },
  {
   "cell_type": "code",
   "execution_count": 192,
   "outputs": [],
   "source": [
    "final_df = pd.DataFrame(columns=columns)"
   ],
   "metadata": {
    "collapsed": false,
    "pycharm": {
     "name": "#%%\n"
    }
   }
  },
  {
   "cell_type": "code",
   "execution_count": 193,
   "outputs": [
    {
     "data": {
      "text/plain": "         dt beeman verlet gear\n0  0.010000    NaN    NaN  NaN\n1  0.001000    NaN    NaN  NaN\n2  0.000100    NaN    NaN  NaN\n3  0.000010    NaN    NaN  NaN\n4  0.000001    NaN    NaN  NaN",
      "text/html": "<div>\n<style scoped>\n    .dataframe tbody tr th:only-of-type {\n        vertical-align: middle;\n    }\n\n    .dataframe tbody tr th {\n        vertical-align: top;\n    }\n\n    .dataframe thead th {\n        text-align: right;\n    }\n</style>\n<table border=\"1\" class=\"dataframe\">\n  <thead>\n    <tr style=\"text-align: right;\">\n      <th></th>\n      <th>dt</th>\n      <th>beeman</th>\n      <th>verlet</th>\n      <th>gear</th>\n    </tr>\n  </thead>\n  <tbody>\n    <tr>\n      <th>0</th>\n      <td>0.010000</td>\n      <td>NaN</td>\n      <td>NaN</td>\n      <td>NaN</td>\n    </tr>\n    <tr>\n      <th>1</th>\n      <td>0.001000</td>\n      <td>NaN</td>\n      <td>NaN</td>\n      <td>NaN</td>\n    </tr>\n    <tr>\n      <th>2</th>\n      <td>0.000100</td>\n      <td>NaN</td>\n      <td>NaN</td>\n      <td>NaN</td>\n    </tr>\n    <tr>\n      <th>3</th>\n      <td>0.000010</td>\n      <td>NaN</td>\n      <td>NaN</td>\n      <td>NaN</td>\n    </tr>\n    <tr>\n      <th>4</th>\n      <td>0.000001</td>\n      <td>NaN</td>\n      <td>NaN</td>\n      <td>NaN</td>\n    </tr>\n  </tbody>\n</table>\n</div>"
     },
     "execution_count": 193,
     "metadata": {},
     "output_type": "execute_result"
    }
   ],
   "source": [
    "final_df.dt = dts\n",
    "final_df"
   ],
   "metadata": {
    "collapsed": false,
    "pycharm": {
     "name": "#%%\n"
    }
   }
  },
  {
   "cell_type": "code",
   "execution_count": 194,
   "outputs": [
    {
     "name": "stderr",
     "output_type": "stream",
     "text": [
      "/var/folders/ld/9r7b_z792271p_ycsc8k24240000gn/T/ipykernel_6852/1495450869.py:2: FutureWarning: In a future version, `df.iloc[:, i] = newvals` will attempt to set the values inplace instead of always setting a new array. To retain the old behavior, use either `df[df.columns[i]] = newvals` or, if columns are non-unique, `df.isetitem(i, newvals)`\n",
      "  final_df.loc[:,name] = mse_results[name]\n"
     ]
    },
    {
     "data": {
      "text/plain": "         dt        beeman    verlet          gear\n0  0.010000  2.636377e-03  0.000906  1.003253e-03\n1  0.001000  2.483952e-05  0.000926  1.003125e-05\n2  0.000100  2.468634e-07  0.001212  1.002817e-07\n3  0.000010  2.467102e-09  0.001244  1.002783e-09\n4  0.000001  2.466965e-11  0.001247  1.002790e-11",
      "text/html": "<div>\n<style scoped>\n    .dataframe tbody tr th:only-of-type {\n        vertical-align: middle;\n    }\n\n    .dataframe tbody tr th {\n        vertical-align: top;\n    }\n\n    .dataframe thead th {\n        text-align: right;\n    }\n</style>\n<table border=\"1\" class=\"dataframe\">\n  <thead>\n    <tr style=\"text-align: right;\">\n      <th></th>\n      <th>dt</th>\n      <th>beeman</th>\n      <th>verlet</th>\n      <th>gear</th>\n    </tr>\n  </thead>\n  <tbody>\n    <tr>\n      <th>0</th>\n      <td>0.010000</td>\n      <td>2.636377e-03</td>\n      <td>0.000906</td>\n      <td>1.003253e-03</td>\n    </tr>\n    <tr>\n      <th>1</th>\n      <td>0.001000</td>\n      <td>2.483952e-05</td>\n      <td>0.000926</td>\n      <td>1.003125e-05</td>\n    </tr>\n    <tr>\n      <th>2</th>\n      <td>0.000100</td>\n      <td>2.468634e-07</td>\n      <td>0.001212</td>\n      <td>1.002817e-07</td>\n    </tr>\n    <tr>\n      <th>3</th>\n      <td>0.000010</td>\n      <td>2.467102e-09</td>\n      <td>0.001244</td>\n      <td>1.002783e-09</td>\n    </tr>\n    <tr>\n      <th>4</th>\n      <td>0.000001</td>\n      <td>2.466965e-11</td>\n      <td>0.001247</td>\n      <td>1.002790e-11</td>\n    </tr>\n  </tbody>\n</table>\n</div>"
     },
     "execution_count": 194,
     "metadata": {},
     "output_type": "execute_result"
    }
   ],
   "source": [
    "for name in mse_results.keys():\n",
    "    final_df.loc[:,name] = mse_results[name]\n",
    "final_df = final_df.sort_values(\"dt\", ascending=False)\n",
    "final_df"
   ],
   "metadata": {
    "collapsed": false,
    "pycharm": {
     "name": "#%%\n"
    }
   }
  },
  {
   "cell_type": "code",
   "source": [
    "fig, ax = plt.subplots()\n",
    "ax.set_yscale('log')\n",
    "ax.set_xscale('log')\n",
    "ax.plot(final_df.dt,final_df.beeman, color= 'blue')\n",
    "ax.plot(final_df.dt, final_df.gear, color= 'red')\n",
    "ax.plot(final_df.dt, final_df.verlet, color= 'green')\n",
    "plt.show()"
   ],
   "metadata": {
    "collapsed": false,
    "pycharm": {
     "name": "#%%\n"
    }
   },
   "execution_count": null,
   "outputs": []
  },
  {
   "cell_type": "code",
   "execution_count": 196,
   "outputs": [],
   "source": [
    "#export to csv\n",
    "final_df.to_csv(\"./output/csv/MSE_Algorithms.csv\", header=True)"
   ],
   "metadata": {
    "collapsed": false,
    "pycharm": {
     "name": "#%%\n"
    }
   }
  },
  {
   "cell_type": "code",
   "execution_count": 196,
   "outputs": [],
   "source": [],
   "metadata": {
    "collapsed": false,
    "pycharm": {
     "name": "#%%\n"
    }
   }
  }
 ],
 "metadata": {
  "kernelspec": {
   "display_name": "Python 3",
   "language": "python",
   "name": "python3"
  },
  "language_info": {
   "codemirror_mode": {
    "name": "ipython",
    "version": 2
   },
   "file_extension": ".py",
   "mimetype": "text/x-python",
   "name": "python",
   "nbconvert_exporter": "python",
   "pygments_lexer": "ipython2",
   "version": "2.7.6"
  }
 },
 "nbformat": 4,
 "nbformat_minor": 0
}