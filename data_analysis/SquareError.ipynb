{
 "cells": [
  {
   "cell_type": "code",
   "execution_count": null,
   "metadata": {
    "collapsed": true
   },
   "outputs": [],
   "source": [
    "import pandas as pd\n",
    "import numpy as np\n",
    "import matplotlib.pyplot as plt"
   ]
  },
  {
   "cell_type": "code",
   "execution_count": null,
   "outputs": [],
   "source": [
    "files = {}\n",
    "name_files = [\"analytic\",\"beeman\",\"verlet\",\"gear\"]\n",
    "dt_numbers = [\"0.01\",\"0.001\",\"1.0E-4\",\"1.0E-5\",\"1.0E-6\"]\n",
    "dts = [0.01,0.001,1.0E-4,1.0E-5,1.0E-6]"
   ],
   "metadata": {
    "collapsed": false
   }
  },
  {
   "cell_type": "code",
   "execution_count": null,
   "outputs": [],
   "source": [
    "for name in name_files:\n",
    "    for dt in dt_numbers:\n",
    "        files[f'{name}_{dt}']= pd.read_csv(f'../src/main/resources/output/oscillator_{name}_{dt}.csv')"
   ],
   "metadata": {
    "collapsed": false
   }
  },
  {
   "cell_type": "code",
   "execution_count": null,
   "outputs": [],
   "source": [
    "# mse_results = {}\n",
    "#\n",
    "# for name in name_files:\n",
    "#     if name == 'analytic':\n",
    "#         continue\n",
    "#     aux = {}\n",
    "#     for dt in dt_numbers:\n",
    "#         mse_results[f'{name}_{dt}'] = mean_squared_error(files[f'analytic_{dt}']['position'],files[f'{name}_{dt}']['position'])"
   ],
   "metadata": {
    "collapsed": false
   }
  },
  {
   "cell_type": "code",
   "execution_count": null,
   "outputs": [],
   "source": [
    "# mse_results = {}\n",
    "#\n",
    "# for dt in dt_numbers:\n",
    "#     mse_results[dt] = {}\n",
    "#     for name in name_files:\n",
    "#         if name == 'analytic':\n",
    "#             continue\n",
    "#         mse_results[dt][name] = mean_squared_error(files[f'analytic_{dt}']['position'],files[f'{name}_{dt}']['position'])"
   ],
   "metadata": {
    "collapsed": false
   }
  },
  {
   "cell_type": "code",
   "execution_count": null,
   "outputs": [],
   "source": [
    "mse_results = {}\n",
    "for name in name_files:\n",
    "    if name == 'analytic':\n",
    "        continue\n",
    "    aux = []\n",
    "    for dt in dt_numbers:\n",
    "        # aux.append(mean_squared_error(files[f'analytic_{dt}']['position'],files[f'{name}_{dt}']['position']))\n",
    "        aux.append(np.square(np.subtract(files[f'analytic_{dt}']['position'], files[f'{name}_{dt}']['position'])).mean())\n",
    "    mse_results[name] = aux\n",
    "mse_results"
   ],
   "metadata": {
    "collapsed": false
   }
  },
  {
   "cell_type": "code",
   "execution_count": null,
   "outputs": [],
   "source": [
    "columns = [\"dt\"]\n",
    "columns.extend(name_files)\n",
    "columns.remove('analytic')\n",
    "columns"
   ],
   "metadata": {
    "collapsed": false
   }
  },
  {
   "cell_type": "code",
   "execution_count": null,
   "outputs": [],
   "source": [
    "final_df = pd.DataFrame(columns=columns)"
   ],
   "metadata": {
    "collapsed": false
   }
  },
  {
   "cell_type": "code",
   "execution_count": null,
   "outputs": [],
   "source": [
    "final_df.dt = dts\n",
    "final_df"
   ],
   "metadata": {
    "collapsed": false
   }
  },
  {
   "cell_type": "code",
   "execution_count": null,
   "outputs": [],
   "source": [
    "for name in mse_results.keys():\n",
    "    final_df.loc[:,name] = mse_results[name]\n",
    "final_df = final_df.sort_values(\"dt\", ascending=False)\n",
    "final_df"
   ],
   "metadata": {
    "collapsed": false
   }
  },
  {
   "cell_type": "code",
   "source": [
    "fig, ax = plt.subplots()\n",
    "ax.set_yscale('log')\n",
    "ax.set_xscale('log')\n",
    "ax.plot(final_df.dt, final_df.verlet,'o-', color= 'green', label=\"Verlet\")\n",
    "ax.plot(final_df.dt,final_df.beeman,'o-', color= 'blue', label=\"Beeman\")\n",
    "ax.plot(final_df.dt, final_df.gear,'o-', color= 'red', label=\"Gear\")\n",
    "ax.legend()\n",
    "plt.xlabel('Delta(s)')\n",
    "plt.ylabel(r'$E(m^{2})$')\n",
    "plt.savefig(\"./output/mse_results.png\")\n",
    "plt.show()"
   ],
   "metadata": {
    "collapsed": false
   },
   "execution_count": null,
   "outputs": []
  },
  {
   "cell_type": "code",
   "execution_count": null,
   "outputs": [],
   "source": [
    "#export to csv\n",
    "final_df.to_csv(\"./output/csv/MSE_Algorithms.csv\", header=True)"
   ],
   "metadata": {
    "collapsed": false
   }
  },
  {
   "cell_type": "code",
   "execution_count": null,
   "outputs": [],
   "source": [],
   "metadata": {
    "collapsed": false
   }
  }
 ],
 "metadata": {
  "kernelspec": {
   "display_name": "Python 3",
   "language": "python",
   "name": "python3"
  },
  "language_info": {
   "codemirror_mode": {
    "name": "ipython",
    "version": 2
   },
   "file_extension": ".py",
   "mimetype": "text/x-python",
   "name": "python",
   "nbconvert_exporter": "python",
   "pygments_lexer": "ipython2",
   "version": "2.7.6"
  }
 },
 "nbformat": 4,
 "nbformat_minor": 0
}
