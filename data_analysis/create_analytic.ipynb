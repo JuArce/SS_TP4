{
 "cells": [
  {
   "cell_type": "code",
   "execution_count": null,
   "outputs": [],
   "source": [
    "import numpy as np\n",
    "import pandas as pd"
   ],
   "metadata": {
    "collapsed": false
   }
  },
  {
   "cell_type": "code",
   "execution_count": null,
   "metadata": {
    "collapsed": true
   },
   "outputs": [],
   "source": [
    "name = \"analytic\"\n",
    "dt_numbers = [0.01,0.001,np.power(10.0, -4),np.power(10.0, -5),np.power(10.0, -6)]\n",
    "tf = 5\n",
    "m = 70\n",
    "position_0 = 1\n",
    "amplitude = 1\n",
    "gamma = 100\n",
    "k = np.power(10,4)"
   ]
  },
  {
   "cell_type": "code",
   "execution_count": null,
   "outputs": [],
   "source": [
    "def compute_position(t):\n",
    "    return  amplitude * np.exp(-(gamma/(2 * m)) * t) * \\\n",
    "            np.cos(np.sqrt(k/m - (gamma ** 2) / (4 * (m ** 2)) ) * t)"
   ],
   "metadata": {
    "collapsed": false
   }
  },
  {
   "cell_type": "code",
   "execution_count": null,
   "outputs": [],
   "source": [
    "def run_simulation(dt):\n",
    "    df = pd.DataFrame(columns=[\"iteration\",\"t\",\"position\"])\n",
    "    t = 0\n",
    "    i =0\n",
    "    while t < tf:\n",
    "        #calculate position\n",
    "        df.loc[i] = [i,t, compute_position(t)]\n",
    "        t += dt\n",
    "        i+=1\n",
    "    df.to_csv(f'../src/main/resources/output/oscillator_analytic_{dt}.csv', header=True,index=False)"
   ],
   "metadata": {
    "collapsed": false
   }
  },
  {
   "cell_type": "code",
   "execution_count": null,
   "outputs": [],
   "source": [
    "for dt in dt_numbers:\n",
    "    print(f'running for {dt}...')\n",
    "    run_simulation(dt)"
   ],
   "metadata": {
    "collapsed": false
   }
  },
  {
   "cell_type": "code",
   "execution_count": null,
   "outputs": [],
   "source": [],
   "metadata": {
    "collapsed": false
   }
  }
 ],
 "metadata": {
  "kernelspec": {
   "display_name": "Python 3",
   "language": "python",
   "name": "python3"
  },
  "language_info": {
   "codemirror_mode": {
    "name": "ipython",
    "version": 2
   },
   "file_extension": ".py",
   "mimetype": "text/x-python",
   "name": "python",
   "nbconvert_exporter": "python",
   "pygments_lexer": "ipython2",
   "version": "2.7.6"
  }
 },
 "nbformat": 4,
 "nbformat_minor": 0
}
